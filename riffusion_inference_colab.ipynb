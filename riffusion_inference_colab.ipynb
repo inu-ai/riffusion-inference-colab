{
  "cells": [
    {
      "cell_type": "code",
      "execution_count": null,
      "metadata": {
        "id": "HHLj38tY_7wJ"
      },
      "outputs": [],
      "source": [
        "#@title condaのインストール\n",
        "!pip install -q condacolab\n",
        "import condacolab\n",
        "condacolab.install()"
      ]
    },
    {
      "cell_type": "code",
      "execution_count": null,
      "metadata": {
        "id": "Wmud3QfG_03z"
      },
      "outputs": [],
      "source": [
        "#@title riffusion-inferenceのインストールなど\n",
        "!git clone https://github.com/hmartiro/riffusion-inference\n",
        "%cd riffusion-inference\n",
        "!python -m pip install -r requirements.txt"
      ]
    },
    {
      "cell_type": "code",
      "execution_count": null,
      "metadata": {
        "id": "gXIY5J5xDWJP"
      },
      "outputs": [],
      "source": [
        "#@title riffusion推論サーバーの起動、cloudflaredでトンネリング\n",
        "%cd riffusion-inference\n",
        "!wget https://github.com/cloudflare/cloudflared/releases/latest/download/cloudflared-linux-amd64 && chmod +x cloudflared-linux-amd64\n",
        "!nohup ./cloudflared-linux-amd64 tunnel --url 127.0.0.1:3013 &\n",
        "!sleep 10 && cat nohup.out\n",
        "!python -m riffusion.server  --port 3013 --host 127.0.0.1"
      ]
    }
  ],
  "metadata": {
    "accelerator": "GPU",
    "colab": {
      "private_outputs": true,
      "provenance": []
    },
    "gpuClass": "standard",
    "kernelspec": {
      "display_name": "Python 3",
      "name": "python3"
    },
    "language_info": {
      "name": "python"
    }
  },
  "nbformat": 4,
  "nbformat_minor": 0
}
