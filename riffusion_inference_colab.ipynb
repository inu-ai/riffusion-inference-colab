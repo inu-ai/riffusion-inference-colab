{
  "nbformat": 4,
  "nbformat_minor": 0,
  "metadata": {
    "colab": {
      "private_outputs": true,
      "provenance": []
    },
    "kernelspec": {
      "name": "python3",
      "display_name": "Python 3"
    },
    "language_info": {
      "name": "python"
    },
    "accelerator": "GPU",
    "gpuClass": "standard"
  },
  "cells": [
    {
      "cell_type": "code",
      "source": [
        "#@title condaのインストール\n",
        "!pip install -q condacolab\n",
        "import condacolab\n",
        "condacolab.install()"
      ],
      "metadata": {
        "id": "HHLj38tY_7wJ"
      },
      "execution_count": null,
      "outputs": []
    },
    {
      "cell_type": "code",
      "source": [
        "#@title riffusion-inferenceのインストールなど\n",
        "!git clone https://github.com/hmartiro/riffusion-inference\n",
        "%cd riffusion-inference\n",
        "!conda create --name riffusion-inference python=3.9\n",
        "!conda activate riffusion-inference\n",
        "!python -m pip install -r requirements.txt\n",
        "\n",
        "!pip install -q https://github.com/brian6091/xformers-wheels/releases/download/0.0.15.dev0%2B4c06c79/xformers-0.0.15.dev0+4c06c79.d20221205-cp38-cp38-linux_x86_64.whl"
      ],
      "metadata": {
        "id": "Wmud3QfG_03z"
      },
      "execution_count": null,
      "outputs": []
    },
    {
      "cell_type": "code",
      "source": [
        "#@title riffusion推論サーバーの起動、cloudflaredでトンネリング\n",
        "%cd riffusion-inference\n",
        "!wget https://github.com/cloudflare/cloudflared/releases/latest/download/cloudflared-linux-amd64 && chmod +x cloudflared-linux-amd64\n",
        "!nohup ./cloudflared-linux-amd64 tunnel --url 127.0.0.1:3013 &\n",
        "!sleep 10 && cat nohup.out\n",
        "!python -m riffusion.server  --port 3013 --host 127.0.0.1"
      ],
      "metadata": {
        "id": "gXIY5J5xDWJP"
      },
      "execution_count": null,
      "outputs": []
    }
  ]
}